{
 "cells": [
  {
   "attachments": {},
   "cell_type": "markdown",
   "metadata": {},
   "source": [
    "# Langage SQL \n",
    "\n",
    "## BONUS : SQLAlchemy"
   ]
  },
  {
   "cell_type": "code",
   "execution_count": 1,
   "metadata": {},
   "outputs": [],
   "source": [
    "import sqlite3, sqlalchemy\n",
    "from sqlalchemy import Table, Column, Integer, String, ForeignKey, MetaData, create_engine, text, inspect\n",
    "from IPython.display import Markdown, display"
   ]
  },
  {
   "attachments": {},
   "cell_type": "markdown",
   "metadata": {},
   "source": [
    "1. SQLAlchemy¶\n",
    "SQLAlchemy est une librairie Python très utilisée pour se connecter à un système de gestion de bases de données relationnelles, elle permet d'interpréter du code SQL.\n",
    "\n",
    "On utilisera une base de données SQLite, plus légère et plus simple d'utilisation que la plupart des autres SGBDR.\n",
    "\n",
    "Le premier objet important de ce module est l'engine. Il nous permet de nous connecter à une base de données et d'effectuer des requêtes SQL au format texte. La fonction create_engine crée une connexion avec une base de données. Si elle n'existe pas, la fonction va en créer une. L'argument est une chaîne de caractère qui a le format suivant : 'sqlite:///chemin_vers_la_base_de_donnees.db'\n",
    "\n",
    "a) Créer une connexion à la base de données chinook.db que vous connaissez maintenant bien."
   ]
  },
  {
   "cell_type": "code",
   "execution_count": 2,
   "metadata": {},
   "outputs": [],
   "source": [
    "engine = create_engine('sqlite:///chinook.db', echo=True)\n",
    "\n",
    "# En ajoutant l'argument echo = True, cela nous permet d'afficher la traduction en langage SQL des commandes du module\n"
   ]
  },
  {
   "attachments": {},
   "cell_type": "markdown",
   "metadata": {},
   "source": [
    "Une classe très pratique pour afficher des informations sur la base est l'Inspector, c'est un outil précieux pour comprendre à la fois le schéma des données ainsi que les contraintes qui s'opèrent entre elles.\n",
    "\n",
    "b) Exécuter la cellule suivante afin d'instancier la classe Inspector dans une variable nommée inspector."
   ]
  },
  {
   "cell_type": "code",
   "execution_count": 3,
   "metadata": {},
   "outputs": [],
   "source": [
    "inspector = inspect(engine)\n"
   ]
  },
  {
   "attachments": {},
   "cell_type": "markdown",
   "metadata": {},
   "source": [
    "A l'aide de cet objet, on va pouvoir récupérer le nom des différentes tables qui constituent la base de données. La méthode get_table_names nous permet de le faire.\n",
    "\n",
    "c) Exécuter la cellule suivante pour afficher les différentes tables présentes dans la base de données."
   ]
  },
  {
   "cell_type": "code",
   "execution_count": 4,
   "metadata": {},
   "outputs": [
    {
     "name": "stdout",
     "output_type": "stream",
     "text": [
      "2023-05-18 21:56:32,678 INFO sqlalchemy.engine.Engine SELECT name FROM sqlite_master WHERE type='table' ORDER BY name\n",
      "2023-05-18 21:56:32,678 INFO sqlalchemy.engine.Engine [raw sql] ()\n"
     ]
    },
    {
     "data": {
      "text/plain": [
       "['albums',\n",
       " 'artists',\n",
       " 'customers',\n",
       " 'employees',\n",
       " 'genres',\n",
       " 'invoice_items',\n",
       " 'invoices',\n",
       " 'media_types',\n",
       " 'parcours',\n",
       " 'playlist_track',\n",
       " 'playlists',\n",
       " 'sqlite_sequence',\n",
       " 'sqlite_stat1',\n",
       " 'tracks']"
      ]
     },
     "execution_count": 4,
     "metadata": {},
     "output_type": "execute_result"
    }
   ],
   "source": [
    "inspector.get_table_names()\n"
   ]
  },
  {
   "attachments": {},
   "cell_type": "markdown",
   "metadata": {},
   "source": [
    "La méthode get_columns de la classe Inspector permet d'afficher les caractéristiques des différents attributs d'une table passée en argument.\n",
    "\n",
    "d) Afficher les attributs de la table albums à l'aide de la cellule suivante."
   ]
  },
  {
   "cell_type": "code",
   "execution_count": 5,
   "metadata": {},
   "outputs": [
    {
     "name": "stdout",
     "output_type": "stream",
     "text": [
      "2023-05-18 21:56:47,910 INFO sqlalchemy.engine.Engine PRAGMA main.table_xinfo(\"albums\")\n",
      "2023-05-18 21:56:47,910 INFO sqlalchemy.engine.Engine [raw sql] ()\n"
     ]
    },
    {
     "data": {
      "text/plain": [
       "[{'name': 'AlbumId',\n",
       "  'type': INTEGER(),\n",
       "  'nullable': False,\n",
       "  'default': None,\n",
       "  'autoincrement': 'auto',\n",
       "  'primary_key': 1},\n",
       " {'name': 'Title',\n",
       "  'type': NVARCHAR(length=160),\n",
       "  'nullable': False,\n",
       "  'default': None,\n",
       "  'autoincrement': 'auto',\n",
       "  'primary_key': 0},\n",
       " {'name': 'ArtistId',\n",
       "  'type': INTEGER(),\n",
       "  'nullable': False,\n",
       "  'default': None,\n",
       "  'autoincrement': 'auto',\n",
       "  'primary_key': 0}]"
      ]
     },
     "execution_count": 5,
     "metadata": {},
     "output_type": "execute_result"
    }
   ],
   "source": [
    "inspector.get_columns(table_name='albums')\n"
   ]
  },
  {
   "attachments": {},
   "cell_type": "markdown",
   "metadata": {},
   "source": [
    "La méthode get_foreign_keys de l'objet inspector permet d'afficher les clés étrangères associées à une table passée en argument.\n",
    "\n",
    "e) afficher les clés étrangères de la table albums à l'aide de la cellule suivante."
   ]
  },
  {
   "cell_type": "code",
   "execution_count": 6,
   "metadata": {},
   "outputs": [
    {
     "name": "stdout",
     "output_type": "stream",
     "text": [
      "2023-05-18 21:56:59,286 INFO sqlalchemy.engine.Engine PRAGMA main.foreign_key_list(\"albums\")\n",
      "2023-05-18 21:56:59,288 INFO sqlalchemy.engine.Engine [raw sql] ()\n",
      "2023-05-18 21:56:59,289 INFO sqlalchemy.engine.Engine SELECT sql FROM  (SELECT * FROM sqlite_master UNION ALL   SELECT * FROM sqlite_temp_master) WHERE name = ? AND type = 'table'\n",
      "2023-05-18 21:56:59,290 INFO sqlalchemy.engine.Engine [raw sql] ('albums',)\n"
     ]
    },
    {
     "data": {
      "text/plain": [
       "[{'name': None,\n",
       "  'constrained_columns': ['ArtistId'],\n",
       "  'referred_schema': None,\n",
       "  'referred_table': 'artists',\n",
       "  'referred_columns': ['ArtistId'],\n",
       "  'options': {}}]"
      ]
     },
     "execution_count": 6,
     "metadata": {},
     "output_type": "execute_result"
    }
   ],
   "source": [
    "inspector.get_foreign_keys(table_name='albums')\n"
   ]
  },
  {
   "attachments": {},
   "cell_type": "markdown",
   "metadata": {},
   "source": [
    "Pour effectuer des requêtes SQL, on a besoin d'une connexion avec l'objet engine. Pour cela on utilise la méthode connect qui renvoie une instance de la classe Connection.\n",
    "\n",
    "f) Instancier la classe Connection dans une variable nommée conn."
   ]
  },
  {
   "cell_type": "code",
   "execution_count": 7,
   "metadata": {},
   "outputs": [],
   "source": [
    "conn = engine.connect()\n"
   ]
  },
  {
   "attachments": {},
   "cell_type": "markdown",
   "metadata": {},
   "source": [
    "On peut désormais utiliser la méthode execute associée à une instance de la classe Connection créée précédemment.\n",
    "\n",
    "Elle prend en argument une chaîne de caractères qui correspond à notre requête en langage SQL.\n",
    "\n",
    "Pour obtenir le résultat de cette requête dans Python, on utilise la méthode fetchall associée à cet objet.\n",
    "\n",
    "g) Afficher 10 lignes de la colonne Title de la table Albums.\n",
    "Afin de s'assurer que notre requête soit bien interprétée par SQLAlchemy on utilisera la fonction text précédemment importée."
   ]
  },
  {
   "cell_type": "code",
   "execution_count": 8,
   "metadata": {},
   "outputs": [
    {
     "name": "stdout",
     "output_type": "stream",
     "text": [
      "2023-05-18 21:57:46,034 INFO sqlalchemy.engine.Engine SELECT Title FROM albums LIMIT 10;\n",
      "2023-05-18 21:57:46,035 INFO sqlalchemy.engine.Engine [generated in 0.00106s] ()\n"
     ]
    },
    {
     "data": {
      "text/plain": [
       "[('For Those About To Rock We Salute You',),\n",
       " ('Balls to the Wall',),\n",
       " ('Restless and Wild',),\n",
       " ('Let There Be Rock',),\n",
       " ('Big Ones',),\n",
       " ('Jagged Little Pill',),\n",
       " ('Facelift',),\n",
       " ('Warner 25 Anos',),\n",
       " ('Plays Metallica By Four Cellos',),\n",
       " ('Audioslave',)]"
      ]
     },
     "execution_count": 8,
     "metadata": {},
     "output_type": "execute_result"
    }
   ],
   "source": [
    "stmt = text(\"SELECT Title FROM albums LIMIT 10;\")\n",
    "result = conn.execute(stmt)\n",
    "result.fetchall() "
   ]
  },
  {
   "attachments": {},
   "cell_type": "markdown",
   "metadata": {},
   "source": [
    "h) Pour chaque commande de la table invoices, le prix est identifié par Total. Afficher le montant total des commandes par identifiant client CustomerId à l'aide de la méthode GROUP BY, on pourra les trier par ordre décroissant."
   ]
  },
  {
   "cell_type": "code",
   "execution_count": 9,
   "metadata": {},
   "outputs": [
    {
     "name": "stdout",
     "output_type": "stream",
     "text": [
      "2023-05-18 21:57:58,291 INFO sqlalchemy.engine.Engine SELECT invoices.CustomerId , SUM(Total) AS tot FROM invoices GROUP BY CustomerId ORDER BY tot DESC;\n",
      "2023-05-18 21:57:58,292 INFO sqlalchemy.engine.Engine [generated in 0.00156s] ()\n"
     ]
    },
    {
     "data": {
      "text/plain": [
       "[(6, 49.620000000000005),\n",
       " (26, 47.620000000000005),\n",
       " (57, 46.62),\n",
       " (45, 45.62),\n",
       " (46, 45.62),\n",
       " (28, 43.620000000000005),\n",
       " (24, 43.62),\n",
       " (37, 43.62),\n",
       " (7, 42.62),\n",
       " (25, 42.62),\n",
       " (44, 41.620000000000005),\n",
       " (5, 40.620000000000005),\n",
       " (43, 40.620000000000005),\n",
       " (48, 40.62),\n",
       " (17, 39.620000000000005),\n",
       " (34, 39.620000000000005),\n",
       " (1, 39.62),\n",
       " (3, 39.62),\n",
       " (4, 39.62),\n",
       " (20, 39.62),\n",
       " (22, 39.62),\n",
       " (42, 39.62),\n",
       " (15, 38.620000000000005),\n",
       " (19, 38.620000000000005),\n",
       " (39, 38.620000000000005),\n",
       " (40, 38.620000000000005),\n",
       " (51, 38.620000000000005),\n",
       " (58, 38.620000000000005),\n",
       " (2, 37.620000000000005),\n",
       " (9, 37.620000000000005),\n",
       " (10, 37.620000000000005),\n",
       " (11, 37.620000000000005),\n",
       " (13, 37.620000000000005),\n",
       " (14, 37.620000000000005),\n",
       " (18, 37.620000000000005),\n",
       " (27, 37.620000000000005),\n",
       " (30, 37.620000000000005),\n",
       " (31, 37.620000000000005),\n",
       " (32, 37.620000000000005),\n",
       " (35, 37.620000000000005),\n",
       " (36, 37.620000000000005),\n",
       " (38, 37.620000000000005),\n",
       " (41, 37.620000000000005),\n",
       " (47, 37.620000000000005),\n",
       " (49, 37.620000000000005),\n",
       " (52, 37.620000000000005),\n",
       " (53, 37.620000000000005),\n",
       " (55, 37.620000000000005),\n",
       " (56, 37.620000000000005),\n",
       " (8, 37.62),\n",
       " (12, 37.62),\n",
       " (16, 37.62),\n",
       " (21, 37.62),\n",
       " (23, 37.62),\n",
       " (29, 37.62),\n",
       " (33, 37.62),\n",
       " (50, 37.62),\n",
       " (54, 37.62),\n",
       " (59, 36.64)]"
      ]
     },
     "execution_count": 9,
     "metadata": {},
     "output_type": "execute_result"
    }
   ],
   "source": [
    "tot_price = text(\"SELECT invoices.CustomerId , SUM(Total) AS tot FROM invoices GROUP BY CustomerId ORDER BY tot DESC;\")\n",
    "result = conn.execute(tot_price)\n",
    "result.fetchall() "
   ]
  },
  {
   "attachments": {},
   "cell_type": "markdown",
   "metadata": {},
   "source": [
    "Comme vous pouvez le voir, il est très simple d'exécuter des requêtes à l'aide de SQLAlchemy."
   ]
  },
  {
   "attachments": {},
   "cell_type": "markdown",
   "metadata": {},
   "source": [
    "2. Création de table \n",
    "Nous allons reprendre le notebook numéro 4 donc vous allez à nouveau voir comment alimenter la base college.db avec les parcours pédagogiques d'un établissement d'enseignement et les étudiants qui suivent des cours là-bas, mais en utilisant cette fois-ci la syntaxe SQLAlchemy.\n",
    "\n",
    "L'objet créé par la fonction MetaData permet de regrouper plusieurs informations concernant une ou plusieurs bases de données, notamment des informations sur les tables qui la composent, on utilisera cet objet lors de leurs créations.\n",
    "\n",
    "i) Créer une base de données college.db."
   ]
  },
  {
   "cell_type": "code",
   "execution_count": 10,
   "metadata": {},
   "outputs": [],
   "source": [
    "engine = create_engine('sqlite:///college.db', echo=True)\n"
   ]
  },
  {
   "attachments": {},
   "cell_type": "markdown",
   "metadata": {},
   "source": [
    "j) Instancier un objet de la classe MetaData nommé meta."
   ]
  },
  {
   "cell_type": "code",
   "execution_count": 11,
   "metadata": {},
   "outputs": [],
   "source": [
    "meta = MetaData()"
   ]
  },
  {
   "attachments": {},
   "cell_type": "markdown",
   "metadata": {},
   "source": [
    "k) Créer une table parcours qui permettra d'identifier la filière de l'étudiant au sein de l'établissement. Cette table aura comme attributs l'identifiant id du parcours qui sera une clé primaire et son nom name.\n",
    "l) Utiliser la méthode create_all associée à l'objet meta pour sauvegarder les changements sur la base de données (l'argument pris par cette fonction est un objet engine)."
   ]
  },
  {
   "cell_type": "code",
   "execution_count": 12,
   "metadata": {},
   "outputs": [
    {
     "name": "stdout",
     "output_type": "stream",
     "text": [
      "2023-05-18 21:58:47,813 INFO sqlalchemy.engine.Engine BEGIN (implicit)\n",
      "2023-05-18 21:58:47,814 INFO sqlalchemy.engine.Engine PRAGMA main.table_info(\"parcours\")\n",
      "2023-05-18 21:58:47,817 INFO sqlalchemy.engine.Engine [raw sql] ()\n",
      "2023-05-18 21:58:47,819 INFO sqlalchemy.engine.Engine COMMIT\n"
     ]
    }
   ],
   "source": [
    "parcours = Table(\n",
    "   'parcours', meta, \n",
    "   Column('id', Integer, primary_key=True), \n",
    "   Column('name', String)\n",
    ")\n",
    "\n",
    "meta.create_all(engine)\n"
   ]
  },
  {
   "attachments": {},
   "cell_type": "markdown",
   "metadata": {},
   "source": [
    "Grâce au echo=True, on peut voir le code utilisé pour créer la table:\n",
    "\n",
    "CREATE TABLE parcours (\n",
    "    id INTEGER NOT NULL, \n",
    "    name VARCHAR, \n",
    "    PRIMARY KEY (id)\n",
    ")\n",
    "Qui n'est rien d'autre que la requête que vous aviez utilisée dans le précédent notebook pour créer la table parcours.\n",
    "\n",
    "En SQL on choisit le nom de la table après le CREATE TABLE. Ensuite, entre parenthèses, on précise le nom des colonnes ainsi que leur type et des contraintes si jamais on veut en ajouter. Enfin on précise quelles sont les clés primaires.\n",
    "\n",
    "m) créer une table students ayant comme attributs un identifiant id qui en sera la clé primaire, un prénom firstname au format String, un nom lastname au format String, ainsi que l'identifiant parcours_id du parcours suivi qui est une clé étrangère.\n",
    "On pourra préciser une clé étrangère en utilisant la syntaxe suivante :\n",
    "\n",
    "Column('colonne_name', type, ForeignKey(\"table_name.colonne_name\"))"
   ]
  },
  {
   "cell_type": "code",
   "execution_count": 13,
   "metadata": {},
   "outputs": [
    {
     "name": "stdout",
     "output_type": "stream",
     "text": [
      "2023-05-18 21:59:05,153 INFO sqlalchemy.engine.Engine BEGIN (implicit)\n",
      "2023-05-18 21:59:05,154 INFO sqlalchemy.engine.Engine PRAGMA main.table_info(\"parcours\")\n",
      "2023-05-18 21:59:05,155 INFO sqlalchemy.engine.Engine [raw sql] ()\n",
      "2023-05-18 21:59:05,157 INFO sqlalchemy.engine.Engine PRAGMA main.table_info(\"students\")\n",
      "2023-05-18 21:59:05,158 INFO sqlalchemy.engine.Engine [raw sql] ()\n",
      "2023-05-18 21:59:05,159 INFO sqlalchemy.engine.Engine COMMIT\n"
     ]
    }
   ],
   "source": [
    "students = Table(\n",
    "   'students', meta, \n",
    "   Column('id', Integer, primary_key=True), \n",
    "   Column('fistname', String),\n",
    "   Column('lastname', String),\n",
    "   Column('parcours_id', Integer, ForeignKey(\"parcours.id\")) \n",
    ")\n",
    "\n",
    "meta.create_all(engine)"
   ]
  },
  {
   "attachments": {},
   "cell_type": "markdown",
   "metadata": {},
   "source": [
    "Remarquez comment SQL traduit cette nouvelle contrainte:\n",
    "\n",
    "CREATE TABLE students (\n",
    "    id INTEGER NOT NULL, \n",
    "    name VARCHAR, \n",
    "    lastname VARCHAR, \n",
    "    parcours_id INTEGER, \n",
    "    PRIMARY KEY (id), \n",
    "    FOREIGN KEY(parcours_id) REFERENCES parcours (id)"
   ]
  },
  {
   "attachments": {},
   "cell_type": "markdown",
   "metadata": {},
   "source": [
    "3. Modifications de table¶\n",
    "Lorsque l'on modifie ou effectue une ou plusieurs opération(s) importante(s) sur une table, il est nécessaire de se prévenir de toute erreur de manipulation. Pour créer une transaction il faut connecter la machine à l'aide de la méthode connect de l'engine.\n",
    "\n",
    "Une transaction a un début et une fin. Le début de la transaction est indiqué par la fonction begin associée à l'objet précédemment créé par la méthode connect.\n",
    "\n",
    "Via cet objet, on pourra appeler la fonction rollback dans le cas où une opération de la transaction n'a pas été autorisée : on revient à l'état initial de la table.\n",
    "\n",
    "La fonction commit permet elle de valider la transaction le cas échéant. En Python, cela nous donne la structure suivante:\n",
    "\n",
    "# on crée la connection     \n",
    "with engine.connect() as connection:\n",
    "    # début de la transaction\n",
    "    with connection.begin() as transaction:\n",
    "        # on tente d'exécuter une transaction\n",
    "        try:\n",
    "            connection.execute(instruction)\n",
    "        # si la transaction échoue\n",
    "        except:\n",
    "            transaction.rollback()\n",
    "            raise\n",
    "        # si la transaction réussit\n",
    "        else:\n",
    "            transaction.commit()\n",
    "L'argument instruction correspond à l'opération qui sera effectuée au sein de la transaction.\n",
    "\n",
    "Lorsqu'on effectue une requête, qui est la forme de transaction la plus simple, ce fonctionnement est fait implicitement.\n",
    "\n",
    "Insertion de lignes\n",
    "Dans une table, on peut insérer ou supprimer des lignes. Ces opérations sont considérées comme des transactions et sont donc soumises aux règles qui assurent la cohérence de la base de données.\n",
    "\n",
    "Pour insérer des tuples, on doit d'abord créer une liste qui contient des tuples. Ces tuples doivent représenter les valeurs des différents attributs de la table : la liste a donc la longueur du nombre de lignes qu'on veut insérer et chaque tuple a le même nombre d'entrées que la table.\n",
    "\n",
    "n) Créer une liste values1 contenant les informations des 2 parcours de la table parcours, on les identifiera par (1, \"Data Engineering\") et (2, \"Data Science\"). Créer une liste values2 contenant les informations de 2 étudiants de la table students, on choisira les noms et prénoms que l'on souhaite. Attention cependant à bien respecter les contraintes liées à l'unicité de la clé primaire et à l'existence de la clé étrangère."
   ]
  },
  {
   "cell_type": "code",
   "execution_count": 14,
   "metadata": {},
   "outputs": [],
   "source": [
    "values1=[(1, \"Data Engineering\"), (2, \"Data Science\")]\n",
    "values2=[(1, \"Louise\", \"Mandon\", 1), (2, \"Baptiste\", \"Prost\", 2)]\n"
   ]
  },
  {
   "attachments": {},
   "cell_type": "markdown",
   "metadata": {},
   "source": [
    "La syntaxe SQL pour ajouter un tuple dans une table est la suivante :\n",
    "\n",
    "INSERT INTO nom_table \n",
    "VALUES tuple;\n",
    "Cette commande est en langage SQL, et sera donc au format texte sous python si on souhaite l'exécuter.\n",
    "\n",
    "On note 'INSERT INTO {tablename} VALUES ({markers})' où tablename sera le nom de la table et markers sera une variable explicitant le format des tuples que l'on injectera dans la table.\n",
    "\n",
    "Une fois le tablename et le markers définis, on peut mettre à jour notre requête SQL en modifiant son format à l'aide de la méthode format de Python (doc) permettant des substitutions de valeurs et des mises en forme à l'intérieur de chaînes de caractères.\n",
    "\n",
    "Cela permet que tablename et markers ne soient pas considérées comme une chaîne de caractères mais bien un argument.\n",
    "\n",
    "   Pour définir correctement un markers, on peut utiliser la fonction suivante ','.join( '?' * len(values[0])) qui permet de définir un format correspondant à un tuple de la bonne longueur.\n",
    "o) Exécuter la cellule suivante pour insérer dans la table parcours les valeurs précédemment définies dans la liste values1."
   ]
  },
  {
   "cell_type": "code",
   "execution_count": 15,
   "metadata": {},
   "outputs": [
    {
     "name": "stdout",
     "output_type": "stream",
     "text": [
      "2023-05-18 21:59:39,650 INFO sqlalchemy.engine.Engine BEGIN (implicit)\n",
      "2023-05-18 21:59:39,651 INFO sqlalchemy.engine.Engine INSERT INTO parcours VALUES (?,?)\n",
      "2023-05-18 21:59:39,651 INFO sqlalchemy.engine.Engine [raw sql] [(1, 'Data Engineering'), (2, 'Data Science')]\n",
      "2023-05-18 21:59:39,653 INFO sqlalchemy.engine.Engine ROLLBACK\n"
     ]
    },
    {
     "ename": "IntegrityError",
     "evalue": "(sqlite3.IntegrityError) UNIQUE constraint failed: parcours.id\n[SQL: INSERT INTO parcours VALUES (?,?)]\n[parameters: [(1, 'Data Engineering'), (2, 'Data Science')]]\n(Background on this error at: https://sqlalche.me/e/14/gkpj)",
     "output_type": "error",
     "traceback": [
      "\u001b[1;31m---------------------------------------------------------------------------\u001b[0m",
      "\u001b[1;31mIntegrityError\u001b[0m                            Traceback (most recent call last)",
      "File \u001b[1;32mc:\\Users\\debor\\anaconda3\\lib\\site-packages\\sqlalchemy\\engine\\base.py:1799\u001b[0m, in \u001b[0;36mConnection._execute_context\u001b[1;34m(self, dialect, constructor, statement, parameters, execution_options, *args, **kw)\u001b[0m\n\u001b[0;32m   1798\u001b[0m     \u001b[39mif\u001b[39;00m \u001b[39mnot\u001b[39;00m evt_handled:\n\u001b[1;32m-> 1799\u001b[0m         \u001b[39mself\u001b[39;49m\u001b[39m.\u001b[39;49mdialect\u001b[39m.\u001b[39;49mdo_executemany(\n\u001b[0;32m   1800\u001b[0m             cursor, statement, parameters, context\n\u001b[0;32m   1801\u001b[0m         )\n\u001b[0;32m   1802\u001b[0m \u001b[39melif\u001b[39;00m \u001b[39mnot\u001b[39;00m parameters \u001b[39mand\u001b[39;00m context\u001b[39m.\u001b[39mno_parameters:\n",
      "File \u001b[1;32mc:\\Users\\debor\\anaconda3\\lib\\site-packages\\sqlalchemy\\engine\\default.py:729\u001b[0m, in \u001b[0;36mDefaultDialect.do_executemany\u001b[1;34m(self, cursor, statement, parameters, context)\u001b[0m\n\u001b[0;32m    728\u001b[0m \u001b[39mdef\u001b[39;00m \u001b[39mdo_executemany\u001b[39m(\u001b[39mself\u001b[39m, cursor, statement, parameters, context\u001b[39m=\u001b[39m\u001b[39mNone\u001b[39;00m):\n\u001b[1;32m--> 729\u001b[0m     cursor\u001b[39m.\u001b[39;49mexecutemany(statement, parameters)\n",
      "\u001b[1;31mIntegrityError\u001b[0m: UNIQUE constraint failed: parcours.id",
      "\nThe above exception was the direct cause of the following exception:\n",
      "\u001b[1;31mIntegrityError\u001b[0m                            Traceback (most recent call last)",
      "Cell \u001b[1;32mIn[15], line 17\u001b[0m\n\u001b[0;32m     14\u001b[0m     ins \u001b[39m=\u001b[39m ins\u001b[39m.\u001b[39mformat(tablename\u001b[39m=\u001b[39mparcours\u001b[39m.\u001b[39mname, markers\u001b[39m=\u001b[39mmarkers)\n\u001b[0;32m     16\u001b[0m     \u001b[39m# Enfin on peut utiliser les tuples créés en exécutant la commande SQL\u001b[39;00m\n\u001b[1;32m---> 17\u001b[0m     connection\u001b[39m.\u001b[39;49mexecute(ins, values1)\n\u001b[0;32m     18\u001b[0m \u001b[39m# si la transaction échoue\u001b[39;00m\n\u001b[0;32m     19\u001b[0m \u001b[39mexcept\u001b[39;00m:\n",
      "File \u001b[1;32mc:\\Users\\debor\\anaconda3\\lib\\site-packages\\sqlalchemy\\engine\\base.py:1291\u001b[0m, in \u001b[0;36mConnection.execute\u001b[1;34m(self, statement, *multiparams, **params)\u001b[0m\n\u001b[0;32m   1282\u001b[0m \u001b[39mif\u001b[39;00m \u001b[39misinstance\u001b[39m(statement, util\u001b[39m.\u001b[39mstring_types):\n\u001b[0;32m   1283\u001b[0m     util\u001b[39m.\u001b[39mwarn_deprecated_20(\n\u001b[0;32m   1284\u001b[0m         \u001b[39m\"\u001b[39m\u001b[39mPassing a string to Connection.execute() is \u001b[39m\u001b[39m\"\u001b[39m\n\u001b[0;32m   1285\u001b[0m         \u001b[39m\"\u001b[39m\u001b[39mdeprecated and will be removed in version 2.0.  Use the \u001b[39m\u001b[39m\"\u001b[39m\n\u001b[1;32m   (...)\u001b[0m\n\u001b[0;32m   1288\u001b[0m         \u001b[39m\"\u001b[39m\u001b[39mdriver-level SQL string.\u001b[39m\u001b[39m\"\u001b[39m\n\u001b[0;32m   1289\u001b[0m     )\n\u001b[1;32m-> 1291\u001b[0m     \u001b[39mreturn\u001b[39;00m \u001b[39mself\u001b[39;49m\u001b[39m.\u001b[39;49m_exec_driver_sql(\n\u001b[0;32m   1292\u001b[0m         statement,\n\u001b[0;32m   1293\u001b[0m         multiparams,\n\u001b[0;32m   1294\u001b[0m         params,\n\u001b[0;32m   1295\u001b[0m         _EMPTY_EXECUTION_OPTS,\n\u001b[0;32m   1296\u001b[0m         future\u001b[39m=\u001b[39;49m\u001b[39mFalse\u001b[39;49;00m,\n\u001b[0;32m   1297\u001b[0m     )\n\u001b[0;32m   1299\u001b[0m \u001b[39mtry\u001b[39;00m:\n\u001b[0;32m   1300\u001b[0m     meth \u001b[39m=\u001b[39m statement\u001b[39m.\u001b[39m_execute_on_connection\n",
      "File \u001b[1;32mc:\\Users\\debor\\anaconda3\\lib\\site-packages\\sqlalchemy\\engine\\base.py:1595\u001b[0m, in \u001b[0;36mConnection._exec_driver_sql\u001b[1;34m(self, statement, multiparams, params, execution_options, future)\u001b[0m\n\u001b[0;32m   1585\u001b[0m         (\n\u001b[0;32m   1586\u001b[0m             statement,\n\u001b[0;32m   1587\u001b[0m             distilled_params,\n\u001b[1;32m   (...)\u001b[0m\n\u001b[0;32m   1591\u001b[0m             statement, distilled_parameters, execution_options\n\u001b[0;32m   1592\u001b[0m         )\n\u001b[0;32m   1594\u001b[0m dialect \u001b[39m=\u001b[39m \u001b[39mself\u001b[39m\u001b[39m.\u001b[39mdialect\n\u001b[1;32m-> 1595\u001b[0m ret \u001b[39m=\u001b[39m \u001b[39mself\u001b[39;49m\u001b[39m.\u001b[39;49m_execute_context(\n\u001b[0;32m   1596\u001b[0m     dialect,\n\u001b[0;32m   1597\u001b[0m     dialect\u001b[39m.\u001b[39;49mexecution_ctx_cls\u001b[39m.\u001b[39;49m_init_statement,\n\u001b[0;32m   1598\u001b[0m     statement,\n\u001b[0;32m   1599\u001b[0m     distilled_parameters,\n\u001b[0;32m   1600\u001b[0m     execution_options,\n\u001b[0;32m   1601\u001b[0m     statement,\n\u001b[0;32m   1602\u001b[0m     distilled_parameters,\n\u001b[0;32m   1603\u001b[0m )\n\u001b[0;32m   1605\u001b[0m \u001b[39mif\u001b[39;00m \u001b[39mnot\u001b[39;00m future:\n\u001b[0;32m   1606\u001b[0m     \u001b[39mif\u001b[39;00m \u001b[39mself\u001b[39m\u001b[39m.\u001b[39m_has_events \u001b[39mor\u001b[39;00m \u001b[39mself\u001b[39m\u001b[39m.\u001b[39mengine\u001b[39m.\u001b[39m_has_events:\n",
      "File \u001b[1;32mc:\\Users\\debor\\anaconda3\\lib\\site-packages\\sqlalchemy\\engine\\base.py:1862\u001b[0m, in \u001b[0;36mConnection._execute_context\u001b[1;34m(self, dialect, constructor, statement, parameters, execution_options, *args, **kw)\u001b[0m\n\u001b[0;32m   1859\u001b[0m             branched\u001b[39m.\u001b[39mclose()\n\u001b[0;32m   1861\u001b[0m \u001b[39mexcept\u001b[39;00m \u001b[39mBaseException\u001b[39;00m \u001b[39mas\u001b[39;00m e:\n\u001b[1;32m-> 1862\u001b[0m     \u001b[39mself\u001b[39;49m\u001b[39m.\u001b[39;49m_handle_dbapi_exception(\n\u001b[0;32m   1863\u001b[0m         e, statement, parameters, cursor, context\n\u001b[0;32m   1864\u001b[0m     )\n\u001b[0;32m   1866\u001b[0m \u001b[39mreturn\u001b[39;00m result\n",
      "File \u001b[1;32mc:\\Users\\debor\\anaconda3\\lib\\site-packages\\sqlalchemy\\engine\\base.py:2043\u001b[0m, in \u001b[0;36mConnection._handle_dbapi_exception\u001b[1;34m(self, e, statement, parameters, cursor, context)\u001b[0m\n\u001b[0;32m   2041\u001b[0m     util\u001b[39m.\u001b[39mraise_(newraise, with_traceback\u001b[39m=\u001b[39mexc_info[\u001b[39m2\u001b[39m], from_\u001b[39m=\u001b[39me)\n\u001b[0;32m   2042\u001b[0m \u001b[39melif\u001b[39;00m should_wrap:\n\u001b[1;32m-> 2043\u001b[0m     util\u001b[39m.\u001b[39;49mraise_(\n\u001b[0;32m   2044\u001b[0m         sqlalchemy_exception, with_traceback\u001b[39m=\u001b[39;49mexc_info[\u001b[39m2\u001b[39;49m], from_\u001b[39m=\u001b[39;49me\n\u001b[0;32m   2045\u001b[0m     )\n\u001b[0;32m   2046\u001b[0m \u001b[39melse\u001b[39;00m:\n\u001b[0;32m   2047\u001b[0m     util\u001b[39m.\u001b[39mraise_(exc_info[\u001b[39m1\u001b[39m], with_traceback\u001b[39m=\u001b[39mexc_info[\u001b[39m2\u001b[39m])\n",
      "File \u001b[1;32mc:\\Users\\debor\\anaconda3\\lib\\site-packages\\sqlalchemy\\util\\compat.py:208\u001b[0m, in \u001b[0;36mraise_\u001b[1;34m(***failed resolving arguments***)\u001b[0m\n\u001b[0;32m    205\u001b[0m     exception\u001b[39m.\u001b[39m__cause__ \u001b[39m=\u001b[39m replace_context\n\u001b[0;32m    207\u001b[0m \u001b[39mtry\u001b[39;00m:\n\u001b[1;32m--> 208\u001b[0m     \u001b[39mraise\u001b[39;00m exception\n\u001b[0;32m    209\u001b[0m \u001b[39mfinally\u001b[39;00m:\n\u001b[0;32m    210\u001b[0m     \u001b[39m# credit to\u001b[39;00m\n\u001b[0;32m    211\u001b[0m     \u001b[39m# https://cosmicpercolator.com/2016/01/13/exception-leaks-in-python-2-and-3/\u001b[39;00m\n\u001b[0;32m    212\u001b[0m     \u001b[39m# as the __traceback__ object creates a cycle\u001b[39;00m\n\u001b[0;32m    213\u001b[0m     \u001b[39mdel\u001b[39;00m exception, replace_context, from_, with_traceback\n",
      "File \u001b[1;32mc:\\Users\\debor\\anaconda3\\lib\\site-packages\\sqlalchemy\\engine\\base.py:1799\u001b[0m, in \u001b[0;36mConnection._execute_context\u001b[1;34m(self, dialect, constructor, statement, parameters, execution_options, *args, **kw)\u001b[0m\n\u001b[0;32m   1797\u001b[0m                 \u001b[39mbreak\u001b[39;00m\n\u001b[0;32m   1798\u001b[0m     \u001b[39mif\u001b[39;00m \u001b[39mnot\u001b[39;00m evt_handled:\n\u001b[1;32m-> 1799\u001b[0m         \u001b[39mself\u001b[39;49m\u001b[39m.\u001b[39;49mdialect\u001b[39m.\u001b[39;49mdo_executemany(\n\u001b[0;32m   1800\u001b[0m             cursor, statement, parameters, context\n\u001b[0;32m   1801\u001b[0m         )\n\u001b[0;32m   1802\u001b[0m \u001b[39melif\u001b[39;00m \u001b[39mnot\u001b[39;00m parameters \u001b[39mand\u001b[39;00m context\u001b[39m.\u001b[39mno_parameters:\n\u001b[0;32m   1803\u001b[0m     \u001b[39mif\u001b[39;00m \u001b[39mself\u001b[39m\u001b[39m.\u001b[39mdialect\u001b[39m.\u001b[39m_has_events:\n",
      "File \u001b[1;32mc:\\Users\\debor\\anaconda3\\lib\\site-packages\\sqlalchemy\\engine\\default.py:729\u001b[0m, in \u001b[0;36mDefaultDialect.do_executemany\u001b[1;34m(self, cursor, statement, parameters, context)\u001b[0m\n\u001b[0;32m    728\u001b[0m \u001b[39mdef\u001b[39;00m \u001b[39mdo_executemany\u001b[39m(\u001b[39mself\u001b[39m, cursor, statement, parameters, context\u001b[39m=\u001b[39m\u001b[39mNone\u001b[39;00m):\n\u001b[1;32m--> 729\u001b[0m     cursor\u001b[39m.\u001b[39;49mexecutemany(statement, parameters)\n",
      "\u001b[1;31mIntegrityError\u001b[0m: (sqlite3.IntegrityError) UNIQUE constraint failed: parcours.id\n[SQL: INSERT INTO parcours VALUES (?,?)]\n[parameters: [(1, 'Data Engineering'), (2, 'Data Science')]]\n(Background on this error at: https://sqlalche.me/e/14/gkpj)"
     ]
    }
   ],
   "source": [
    "# on crée la connection\n",
    "with engine.connect() as connection:\n",
    "    # début de la transaction\n",
    "    with connection.begin() as transaction:\n",
    "        # on tente d'exécuter une transaction\n",
    "        try:\n",
    "            # On indique le format d'un tuple de cette table\n",
    "            markers = ','.join('?' * len(values1[0])) \n",
    "            \n",
    "            # On utilise le langage SQL en format texte où markers est le format d'un tuple\n",
    "            ins = 'INSERT INTO {tablename} VALUES ({markers})'\n",
    "            \n",
    "            # On précise ce format particulier grâce à la fonction membre format\n",
    "            ins = ins.format(tablename=parcours.name, markers=markers)\n",
    "           \n",
    "            # Enfin on peut utiliser les tuples créés en exécutant la commande SQL\n",
    "            connection.execute(ins, values1)\n",
    "        # si la transaction échoue\n",
    "        except:\n",
    "            transaction.rollback()\n",
    "            raise\n",
    "        # si la transaction réussit\n",
    "        else:\n",
    "            transaction.commit()"
   ]
  },
  {
   "attachments": {},
   "cell_type": "markdown",
   "metadata": {},
   "source": [
    "p) En utilisant une transaction SQLAlchemy, insérer dans la table students les valeurs précédemment définies dans la liste values2.\n"
   ]
  },
  {
   "cell_type": "code",
   "execution_count": 16,
   "metadata": {},
   "outputs": [
    {
     "name": "stdout",
     "output_type": "stream",
     "text": [
      "2023-05-18 22:00:09,810 INFO sqlalchemy.engine.Engine BEGIN (implicit)\n",
      "2023-05-18 22:00:09,811 INFO sqlalchemy.engine.Engine INSERT INTO students VALUES (?,?,?,?)\n",
      "2023-05-18 22:00:09,813 INFO sqlalchemy.engine.Engine [raw sql] [(1, 'Louise', 'Mandon', 1), (2, 'Baptiste', 'Prost', 2)]\n",
      "2023-05-18 22:00:09,815 INFO sqlalchemy.engine.Engine ROLLBACK\n"
     ]
    },
    {
     "ename": "IntegrityError",
     "evalue": "(sqlite3.IntegrityError) UNIQUE constraint failed: students.id\n[SQL: INSERT INTO students VALUES (?,?,?,?)]\n[parameters: [(1, 'Louise', 'Mandon', 1), (2, 'Baptiste', 'Prost', 2)]]\n(Background on this error at: https://sqlalche.me/e/14/gkpj)",
     "output_type": "error",
     "traceback": [
      "\u001b[1;31m---------------------------------------------------------------------------\u001b[0m",
      "\u001b[1;31mIntegrityError\u001b[0m                            Traceback (most recent call last)",
      "File \u001b[1;32mc:\\Users\\debor\\anaconda3\\lib\\site-packages\\sqlalchemy\\engine\\base.py:1799\u001b[0m, in \u001b[0;36mConnection._execute_context\u001b[1;34m(self, dialect, constructor, statement, parameters, execution_options, *args, **kw)\u001b[0m\n\u001b[0;32m   1798\u001b[0m     \u001b[39mif\u001b[39;00m \u001b[39mnot\u001b[39;00m evt_handled:\n\u001b[1;32m-> 1799\u001b[0m         \u001b[39mself\u001b[39;49m\u001b[39m.\u001b[39;49mdialect\u001b[39m.\u001b[39;49mdo_executemany(\n\u001b[0;32m   1800\u001b[0m             cursor, statement, parameters, context\n\u001b[0;32m   1801\u001b[0m         )\n\u001b[0;32m   1802\u001b[0m \u001b[39melif\u001b[39;00m \u001b[39mnot\u001b[39;00m parameters \u001b[39mand\u001b[39;00m context\u001b[39m.\u001b[39mno_parameters:\n",
      "File \u001b[1;32mc:\\Users\\debor\\anaconda3\\lib\\site-packages\\sqlalchemy\\engine\\default.py:729\u001b[0m, in \u001b[0;36mDefaultDialect.do_executemany\u001b[1;34m(self, cursor, statement, parameters, context)\u001b[0m\n\u001b[0;32m    728\u001b[0m \u001b[39mdef\u001b[39;00m \u001b[39mdo_executemany\u001b[39m(\u001b[39mself\u001b[39m, cursor, statement, parameters, context\u001b[39m=\u001b[39m\u001b[39mNone\u001b[39;00m):\n\u001b[1;32m--> 729\u001b[0m     cursor\u001b[39m.\u001b[39;49mexecutemany(statement, parameters)\n",
      "\u001b[1;31mIntegrityError\u001b[0m: UNIQUE constraint failed: students.id",
      "\nThe above exception was the direct cause of the following exception:\n",
      "\u001b[1;31mIntegrityError\u001b[0m                            Traceback (most recent call last)",
      "Cell \u001b[1;32mIn[16], line 8\u001b[0m\n\u001b[0;32m      5\u001b[0m     ins \u001b[39m=\u001b[39m \u001b[39m'\u001b[39m\u001b[39mINSERT INTO \u001b[39m\u001b[39m{tablename}\u001b[39;00m\u001b[39m VALUES (\u001b[39m\u001b[39m{markers}\u001b[39;00m\u001b[39m)\u001b[39m\u001b[39m'\u001b[39m\n\u001b[0;32m      7\u001b[0m     ins \u001b[39m=\u001b[39m ins\u001b[39m.\u001b[39mformat(tablename\u001b[39m=\u001b[39mstudents\u001b[39m.\u001b[39mname, markers\u001b[39m=\u001b[39mmarkers)\n\u001b[1;32m----> 8\u001b[0m     connection\u001b[39m.\u001b[39;49mexecute(ins, values2)\n\u001b[0;32m      9\u001b[0m \u001b[39mexcept\u001b[39;00m:\n\u001b[0;32m     10\u001b[0m     transaction\u001b[39m.\u001b[39mrollback()\n",
      "File \u001b[1;32mc:\\Users\\debor\\anaconda3\\lib\\site-packages\\sqlalchemy\\engine\\base.py:1291\u001b[0m, in \u001b[0;36mConnection.execute\u001b[1;34m(self, statement, *multiparams, **params)\u001b[0m\n\u001b[0;32m   1282\u001b[0m \u001b[39mif\u001b[39;00m \u001b[39misinstance\u001b[39m(statement, util\u001b[39m.\u001b[39mstring_types):\n\u001b[0;32m   1283\u001b[0m     util\u001b[39m.\u001b[39mwarn_deprecated_20(\n\u001b[0;32m   1284\u001b[0m         \u001b[39m\"\u001b[39m\u001b[39mPassing a string to Connection.execute() is \u001b[39m\u001b[39m\"\u001b[39m\n\u001b[0;32m   1285\u001b[0m         \u001b[39m\"\u001b[39m\u001b[39mdeprecated and will be removed in version 2.0.  Use the \u001b[39m\u001b[39m\"\u001b[39m\n\u001b[1;32m   (...)\u001b[0m\n\u001b[0;32m   1288\u001b[0m         \u001b[39m\"\u001b[39m\u001b[39mdriver-level SQL string.\u001b[39m\u001b[39m\"\u001b[39m\n\u001b[0;32m   1289\u001b[0m     )\n\u001b[1;32m-> 1291\u001b[0m     \u001b[39mreturn\u001b[39;00m \u001b[39mself\u001b[39;49m\u001b[39m.\u001b[39;49m_exec_driver_sql(\n\u001b[0;32m   1292\u001b[0m         statement,\n\u001b[0;32m   1293\u001b[0m         multiparams,\n\u001b[0;32m   1294\u001b[0m         params,\n\u001b[0;32m   1295\u001b[0m         _EMPTY_EXECUTION_OPTS,\n\u001b[0;32m   1296\u001b[0m         future\u001b[39m=\u001b[39;49m\u001b[39mFalse\u001b[39;49;00m,\n\u001b[0;32m   1297\u001b[0m     )\n\u001b[0;32m   1299\u001b[0m \u001b[39mtry\u001b[39;00m:\n\u001b[0;32m   1300\u001b[0m     meth \u001b[39m=\u001b[39m statement\u001b[39m.\u001b[39m_execute_on_connection\n",
      "File \u001b[1;32mc:\\Users\\debor\\anaconda3\\lib\\site-packages\\sqlalchemy\\engine\\base.py:1595\u001b[0m, in \u001b[0;36mConnection._exec_driver_sql\u001b[1;34m(self, statement, multiparams, params, execution_options, future)\u001b[0m\n\u001b[0;32m   1585\u001b[0m         (\n\u001b[0;32m   1586\u001b[0m             statement,\n\u001b[0;32m   1587\u001b[0m             distilled_params,\n\u001b[1;32m   (...)\u001b[0m\n\u001b[0;32m   1591\u001b[0m             statement, distilled_parameters, execution_options\n\u001b[0;32m   1592\u001b[0m         )\n\u001b[0;32m   1594\u001b[0m dialect \u001b[39m=\u001b[39m \u001b[39mself\u001b[39m\u001b[39m.\u001b[39mdialect\n\u001b[1;32m-> 1595\u001b[0m ret \u001b[39m=\u001b[39m \u001b[39mself\u001b[39;49m\u001b[39m.\u001b[39;49m_execute_context(\n\u001b[0;32m   1596\u001b[0m     dialect,\n\u001b[0;32m   1597\u001b[0m     dialect\u001b[39m.\u001b[39;49mexecution_ctx_cls\u001b[39m.\u001b[39;49m_init_statement,\n\u001b[0;32m   1598\u001b[0m     statement,\n\u001b[0;32m   1599\u001b[0m     distilled_parameters,\n\u001b[0;32m   1600\u001b[0m     execution_options,\n\u001b[0;32m   1601\u001b[0m     statement,\n\u001b[0;32m   1602\u001b[0m     distilled_parameters,\n\u001b[0;32m   1603\u001b[0m )\n\u001b[0;32m   1605\u001b[0m \u001b[39mif\u001b[39;00m \u001b[39mnot\u001b[39;00m future:\n\u001b[0;32m   1606\u001b[0m     \u001b[39mif\u001b[39;00m \u001b[39mself\u001b[39m\u001b[39m.\u001b[39m_has_events \u001b[39mor\u001b[39;00m \u001b[39mself\u001b[39m\u001b[39m.\u001b[39mengine\u001b[39m.\u001b[39m_has_events:\n",
      "File \u001b[1;32mc:\\Users\\debor\\anaconda3\\lib\\site-packages\\sqlalchemy\\engine\\base.py:1862\u001b[0m, in \u001b[0;36mConnection._execute_context\u001b[1;34m(self, dialect, constructor, statement, parameters, execution_options, *args, **kw)\u001b[0m\n\u001b[0;32m   1859\u001b[0m             branched\u001b[39m.\u001b[39mclose()\n\u001b[0;32m   1861\u001b[0m \u001b[39mexcept\u001b[39;00m \u001b[39mBaseException\u001b[39;00m \u001b[39mas\u001b[39;00m e:\n\u001b[1;32m-> 1862\u001b[0m     \u001b[39mself\u001b[39;49m\u001b[39m.\u001b[39;49m_handle_dbapi_exception(\n\u001b[0;32m   1863\u001b[0m         e, statement, parameters, cursor, context\n\u001b[0;32m   1864\u001b[0m     )\n\u001b[0;32m   1866\u001b[0m \u001b[39mreturn\u001b[39;00m result\n",
      "File \u001b[1;32mc:\\Users\\debor\\anaconda3\\lib\\site-packages\\sqlalchemy\\engine\\base.py:2043\u001b[0m, in \u001b[0;36mConnection._handle_dbapi_exception\u001b[1;34m(self, e, statement, parameters, cursor, context)\u001b[0m\n\u001b[0;32m   2041\u001b[0m     util\u001b[39m.\u001b[39mraise_(newraise, with_traceback\u001b[39m=\u001b[39mexc_info[\u001b[39m2\u001b[39m], from_\u001b[39m=\u001b[39me)\n\u001b[0;32m   2042\u001b[0m \u001b[39melif\u001b[39;00m should_wrap:\n\u001b[1;32m-> 2043\u001b[0m     util\u001b[39m.\u001b[39;49mraise_(\n\u001b[0;32m   2044\u001b[0m         sqlalchemy_exception, with_traceback\u001b[39m=\u001b[39;49mexc_info[\u001b[39m2\u001b[39;49m], from_\u001b[39m=\u001b[39;49me\n\u001b[0;32m   2045\u001b[0m     )\n\u001b[0;32m   2046\u001b[0m \u001b[39melse\u001b[39;00m:\n\u001b[0;32m   2047\u001b[0m     util\u001b[39m.\u001b[39mraise_(exc_info[\u001b[39m1\u001b[39m], with_traceback\u001b[39m=\u001b[39mexc_info[\u001b[39m2\u001b[39m])\n",
      "File \u001b[1;32mc:\\Users\\debor\\anaconda3\\lib\\site-packages\\sqlalchemy\\util\\compat.py:208\u001b[0m, in \u001b[0;36mraise_\u001b[1;34m(***failed resolving arguments***)\u001b[0m\n\u001b[0;32m    205\u001b[0m     exception\u001b[39m.\u001b[39m__cause__ \u001b[39m=\u001b[39m replace_context\n\u001b[0;32m    207\u001b[0m \u001b[39mtry\u001b[39;00m:\n\u001b[1;32m--> 208\u001b[0m     \u001b[39mraise\u001b[39;00m exception\n\u001b[0;32m    209\u001b[0m \u001b[39mfinally\u001b[39;00m:\n\u001b[0;32m    210\u001b[0m     \u001b[39m# credit to\u001b[39;00m\n\u001b[0;32m    211\u001b[0m     \u001b[39m# https://cosmicpercolator.com/2016/01/13/exception-leaks-in-python-2-and-3/\u001b[39;00m\n\u001b[0;32m    212\u001b[0m     \u001b[39m# as the __traceback__ object creates a cycle\u001b[39;00m\n\u001b[0;32m    213\u001b[0m     \u001b[39mdel\u001b[39;00m exception, replace_context, from_, with_traceback\n",
      "File \u001b[1;32mc:\\Users\\debor\\anaconda3\\lib\\site-packages\\sqlalchemy\\engine\\base.py:1799\u001b[0m, in \u001b[0;36mConnection._execute_context\u001b[1;34m(self, dialect, constructor, statement, parameters, execution_options, *args, **kw)\u001b[0m\n\u001b[0;32m   1797\u001b[0m                 \u001b[39mbreak\u001b[39;00m\n\u001b[0;32m   1798\u001b[0m     \u001b[39mif\u001b[39;00m \u001b[39mnot\u001b[39;00m evt_handled:\n\u001b[1;32m-> 1799\u001b[0m         \u001b[39mself\u001b[39;49m\u001b[39m.\u001b[39;49mdialect\u001b[39m.\u001b[39;49mdo_executemany(\n\u001b[0;32m   1800\u001b[0m             cursor, statement, parameters, context\n\u001b[0;32m   1801\u001b[0m         )\n\u001b[0;32m   1802\u001b[0m \u001b[39melif\u001b[39;00m \u001b[39mnot\u001b[39;00m parameters \u001b[39mand\u001b[39;00m context\u001b[39m.\u001b[39mno_parameters:\n\u001b[0;32m   1803\u001b[0m     \u001b[39mif\u001b[39;00m \u001b[39mself\u001b[39m\u001b[39m.\u001b[39mdialect\u001b[39m.\u001b[39m_has_events:\n",
      "File \u001b[1;32mc:\\Users\\debor\\anaconda3\\lib\\site-packages\\sqlalchemy\\engine\\default.py:729\u001b[0m, in \u001b[0;36mDefaultDialect.do_executemany\u001b[1;34m(self, cursor, statement, parameters, context)\u001b[0m\n\u001b[0;32m    728\u001b[0m \u001b[39mdef\u001b[39;00m \u001b[39mdo_executemany\u001b[39m(\u001b[39mself\u001b[39m, cursor, statement, parameters, context\u001b[39m=\u001b[39m\u001b[39mNone\u001b[39;00m):\n\u001b[1;32m--> 729\u001b[0m     cursor\u001b[39m.\u001b[39;49mexecutemany(statement, parameters)\n",
      "\u001b[1;31mIntegrityError\u001b[0m: (sqlite3.IntegrityError) UNIQUE constraint failed: students.id\n[SQL: INSERT INTO students VALUES (?,?,?,?)]\n[parameters: [(1, 'Louise', 'Mandon', 1), (2, 'Baptiste', 'Prost', 2)]]\n(Background on this error at: https://sqlalche.me/e/14/gkpj)"
     ]
    }
   ],
   "source": [
    "with engine.connect() as connection:\n",
    "    with connection.begin() as transaction:\n",
    "        try:\n",
    "            markers = ','.join('?' * len(values2[0])) \n",
    "            ins = 'INSERT INTO {tablename} VALUES ({markers})'\n",
    "            \n",
    "            ins = ins.format(tablename=students.name, markers=markers)\n",
    "            connection.execute(ins, values2)\n",
    "        except:\n",
    "            transaction.rollback()\n",
    "            raise\n",
    "        else:\n",
    "            transaction.commit()"
   ]
  },
  {
   "attachments": {},
   "cell_type": "markdown",
   "metadata": {},
   "source": [
    "q) Vous pouvez lancer la cellule suivante pour voir les éléments contenus dans les bases.\n"
   ]
  },
  {
   "cell_type": "code",
   "execution_count": 17,
   "metadata": {},
   "outputs": [
    {
     "name": "stdout",
     "output_type": "stream",
     "text": [
      "2023-05-18 22:00:27,585 INFO sqlalchemy.engine.Engine SELECT * FROM students;\n",
      "2023-05-18 22:00:27,587 INFO sqlalchemy.engine.Engine [raw sql] ()\n",
      "[(2, 'Marin', 'Dupont', 2)]\n",
      "2023-05-18 22:00:27,589 INFO sqlalchemy.engine.Engine SELECT * FROM parcours;\n",
      "2023-05-18 22:00:27,590 INFO sqlalchemy.engine.Engine [raw sql] ()\n",
      "[(1, 'Data Engineering'), (2, 'Data Science')]\n"
     ]
    }
   ],
   "source": [
    "# Exécuter cette cellule\n",
    "with engine.connect() as connection:\n",
    "    results = connection.execute(\"SELECT * FROM students;\")\n",
    "    print(results.fetchall())\n",
    "\n",
    "with engine.connect() as connection:\n",
    "    results = connection.execute(\"SELECT * FROM parcours;\")\n",
    "    print(results.fetchall())"
   ]
  },
  {
   "attachments": {},
   "cell_type": "markdown",
   "metadata": {},
   "source": [
    "Suppression de table\n",
    "Si l'on souhaite supprimer des lignes, il faut faire attention à la cohérence de la base de données. Dans notre exemple, on ne peut pas supprimer uniquement le tuple d'un des deux parcours de la table parcours. En effet, dans la table students un des attributs fait référence à la clé primaire d'un parcours. Cet attribut n'aurait donc plus de sens, et les transactions ACID nous permettent d'interdire ce genre de transaction.\n",
    "\n",
    "   Si un parcours est retiré du programme de l'université et doit être retiré de la base, il faut aussi supprimer les lignes des étudiants associés (ici les étudiants suivent 1 seul cursus et sont donc malheureusement mis à la porte...) dans la table students. Pour supprimer ou modifier une ligne en particulier, il faut utiliser vos connaissances en langage SQL, notamment en ce qui concerne la recherche de tuple vérifiant une condition\n",
    "On va procéder plus simplement ici et supprimer la table students.\n",
    "\n",
    "r) Supprimer la table students de la base de donnée à l'aide des connaissances acquises jusqu'ici en SQL et SQLAlchemy. Puis vérifier qu'elle est bien supprimée en essayant d'y insérer un tuple."
   ]
  },
  {
   "cell_type": "code",
   "execution_count": 18,
   "metadata": {},
   "outputs": [
    {
     "name": "stdout",
     "output_type": "stream",
     "text": [
      "2023-05-18 22:00:43,360 INFO sqlalchemy.engine.Engine DROP TABLE IF EXISTS students;\n",
      "2023-05-18 22:00:43,361 INFO sqlalchemy.engine.Engine [generated in 0.00081s] ()\n",
      "2023-05-18 22:00:43,366 INFO sqlalchemy.engine.Engine COMMIT\n"
     ]
    }
   ],
   "source": [
    "sql = text('DROP TABLE IF EXISTS students;')\n",
    "result = engine.execute(sql)\n"
   ]
  },
  {
   "cell_type": "code",
   "execution_count": 19,
   "metadata": {},
   "outputs": [
    {
     "name": "stdout",
     "output_type": "stream",
     "text": [
      "2023-05-18 22:00:58,148 INFO sqlalchemy.engine.Engine BEGIN (implicit)\n",
      "2023-05-18 22:00:58,150 INFO sqlalchemy.engine.Engine INSERT INTO students VALUES (?,?,?,?)\n",
      "2023-05-18 22:00:58,151 INFO sqlalchemy.engine.Engine [raw sql] [(1, 'Jean', 'Dubois', 1), (2, 'Martin', 'Dupont', 2)]\n",
      "2023-05-18 22:00:58,153 INFO sqlalchemy.engine.Engine ROLLBACK\n"
     ]
    },
    {
     "ename": "OperationalError",
     "evalue": "(sqlite3.OperationalError) no such table: students\n[SQL: INSERT INTO students VALUES (?,?,?,?)]\n[parameters: [(1, 'Jean', 'Dubois', 1), (2, 'Martin', 'Dupont', 2)]]\n(Background on this error at: https://sqlalche.me/e/14/e3q8)",
     "output_type": "error",
     "traceback": [
      "\u001b[1;31m---------------------------------------------------------------------------\u001b[0m",
      "\u001b[1;31mOperationalError\u001b[0m                          Traceback (most recent call last)",
      "File \u001b[1;32mc:\\Users\\debor\\anaconda3\\lib\\site-packages\\sqlalchemy\\engine\\base.py:1799\u001b[0m, in \u001b[0;36mConnection._execute_context\u001b[1;34m(self, dialect, constructor, statement, parameters, execution_options, *args, **kw)\u001b[0m\n\u001b[0;32m   1798\u001b[0m     \u001b[39mif\u001b[39;00m \u001b[39mnot\u001b[39;00m evt_handled:\n\u001b[1;32m-> 1799\u001b[0m         \u001b[39mself\u001b[39;49m\u001b[39m.\u001b[39;49mdialect\u001b[39m.\u001b[39;49mdo_executemany(\n\u001b[0;32m   1800\u001b[0m             cursor, statement, parameters, context\n\u001b[0;32m   1801\u001b[0m         )\n\u001b[0;32m   1802\u001b[0m \u001b[39melif\u001b[39;00m \u001b[39mnot\u001b[39;00m parameters \u001b[39mand\u001b[39;00m context\u001b[39m.\u001b[39mno_parameters:\n",
      "File \u001b[1;32mc:\\Users\\debor\\anaconda3\\lib\\site-packages\\sqlalchemy\\engine\\default.py:729\u001b[0m, in \u001b[0;36mDefaultDialect.do_executemany\u001b[1;34m(self, cursor, statement, parameters, context)\u001b[0m\n\u001b[0;32m    728\u001b[0m \u001b[39mdef\u001b[39;00m \u001b[39mdo_executemany\u001b[39m(\u001b[39mself\u001b[39m, cursor, statement, parameters, context\u001b[39m=\u001b[39m\u001b[39mNone\u001b[39;00m):\n\u001b[1;32m--> 729\u001b[0m     cursor\u001b[39m.\u001b[39;49mexecutemany(statement, parameters)\n",
      "\u001b[1;31mOperationalError\u001b[0m: no such table: students",
      "\nThe above exception was the direct cause of the following exception:\n",
      "\u001b[1;31mOperationalError\u001b[0m                          Traceback (most recent call last)",
      "Cell \u001b[1;32mIn[19], line 14\u001b[0m\n\u001b[0;32m     12\u001b[0m     ins \u001b[39m=\u001b[39m \u001b[39m'\u001b[39m\u001b[39mINSERT INTO students VALUES (\u001b[39m\u001b[39m{markers}\u001b[39;00m\u001b[39m)\u001b[39m\u001b[39m'\u001b[39m\n\u001b[0;32m     13\u001b[0m     ins \u001b[39m=\u001b[39m ins\u001b[39m.\u001b[39mformat(tablename\u001b[39m=\u001b[39mstudents\u001b[39m.\u001b[39mname, markers\u001b[39m=\u001b[39mmarkers)\n\u001b[1;32m---> 14\u001b[0m     connection\u001b[39m.\u001b[39;49mexecute(ins, values)\n\u001b[0;32m     15\u001b[0m \u001b[39mexcept\u001b[39;00m:\n\u001b[0;32m     16\u001b[0m     transaction\u001b[39m.\u001b[39mrollback()\n",
      "File \u001b[1;32mc:\\Users\\debor\\anaconda3\\lib\\site-packages\\sqlalchemy\\engine\\base.py:1291\u001b[0m, in \u001b[0;36mConnection.execute\u001b[1;34m(self, statement, *multiparams, **params)\u001b[0m\n\u001b[0;32m   1282\u001b[0m \u001b[39mif\u001b[39;00m \u001b[39misinstance\u001b[39m(statement, util\u001b[39m.\u001b[39mstring_types):\n\u001b[0;32m   1283\u001b[0m     util\u001b[39m.\u001b[39mwarn_deprecated_20(\n\u001b[0;32m   1284\u001b[0m         \u001b[39m\"\u001b[39m\u001b[39mPassing a string to Connection.execute() is \u001b[39m\u001b[39m\"\u001b[39m\n\u001b[0;32m   1285\u001b[0m         \u001b[39m\"\u001b[39m\u001b[39mdeprecated and will be removed in version 2.0.  Use the \u001b[39m\u001b[39m\"\u001b[39m\n\u001b[1;32m   (...)\u001b[0m\n\u001b[0;32m   1288\u001b[0m         \u001b[39m\"\u001b[39m\u001b[39mdriver-level SQL string.\u001b[39m\u001b[39m\"\u001b[39m\n\u001b[0;32m   1289\u001b[0m     )\n\u001b[1;32m-> 1291\u001b[0m     \u001b[39mreturn\u001b[39;00m \u001b[39mself\u001b[39;49m\u001b[39m.\u001b[39;49m_exec_driver_sql(\n\u001b[0;32m   1292\u001b[0m         statement,\n\u001b[0;32m   1293\u001b[0m         multiparams,\n\u001b[0;32m   1294\u001b[0m         params,\n\u001b[0;32m   1295\u001b[0m         _EMPTY_EXECUTION_OPTS,\n\u001b[0;32m   1296\u001b[0m         future\u001b[39m=\u001b[39;49m\u001b[39mFalse\u001b[39;49;00m,\n\u001b[0;32m   1297\u001b[0m     )\n\u001b[0;32m   1299\u001b[0m \u001b[39mtry\u001b[39;00m:\n\u001b[0;32m   1300\u001b[0m     meth \u001b[39m=\u001b[39m statement\u001b[39m.\u001b[39m_execute_on_connection\n",
      "File \u001b[1;32mc:\\Users\\debor\\anaconda3\\lib\\site-packages\\sqlalchemy\\engine\\base.py:1595\u001b[0m, in \u001b[0;36mConnection._exec_driver_sql\u001b[1;34m(self, statement, multiparams, params, execution_options, future)\u001b[0m\n\u001b[0;32m   1585\u001b[0m         (\n\u001b[0;32m   1586\u001b[0m             statement,\n\u001b[0;32m   1587\u001b[0m             distilled_params,\n\u001b[1;32m   (...)\u001b[0m\n\u001b[0;32m   1591\u001b[0m             statement, distilled_parameters, execution_options\n\u001b[0;32m   1592\u001b[0m         )\n\u001b[0;32m   1594\u001b[0m dialect \u001b[39m=\u001b[39m \u001b[39mself\u001b[39m\u001b[39m.\u001b[39mdialect\n\u001b[1;32m-> 1595\u001b[0m ret \u001b[39m=\u001b[39m \u001b[39mself\u001b[39;49m\u001b[39m.\u001b[39;49m_execute_context(\n\u001b[0;32m   1596\u001b[0m     dialect,\n\u001b[0;32m   1597\u001b[0m     dialect\u001b[39m.\u001b[39;49mexecution_ctx_cls\u001b[39m.\u001b[39;49m_init_statement,\n\u001b[0;32m   1598\u001b[0m     statement,\n\u001b[0;32m   1599\u001b[0m     distilled_parameters,\n\u001b[0;32m   1600\u001b[0m     execution_options,\n\u001b[0;32m   1601\u001b[0m     statement,\n\u001b[0;32m   1602\u001b[0m     distilled_parameters,\n\u001b[0;32m   1603\u001b[0m )\n\u001b[0;32m   1605\u001b[0m \u001b[39mif\u001b[39;00m \u001b[39mnot\u001b[39;00m future:\n\u001b[0;32m   1606\u001b[0m     \u001b[39mif\u001b[39;00m \u001b[39mself\u001b[39m\u001b[39m.\u001b[39m_has_events \u001b[39mor\u001b[39;00m \u001b[39mself\u001b[39m\u001b[39m.\u001b[39mengine\u001b[39m.\u001b[39m_has_events:\n",
      "File \u001b[1;32mc:\\Users\\debor\\anaconda3\\lib\\site-packages\\sqlalchemy\\engine\\base.py:1862\u001b[0m, in \u001b[0;36mConnection._execute_context\u001b[1;34m(self, dialect, constructor, statement, parameters, execution_options, *args, **kw)\u001b[0m\n\u001b[0;32m   1859\u001b[0m             branched\u001b[39m.\u001b[39mclose()\n\u001b[0;32m   1861\u001b[0m \u001b[39mexcept\u001b[39;00m \u001b[39mBaseException\u001b[39;00m \u001b[39mas\u001b[39;00m e:\n\u001b[1;32m-> 1862\u001b[0m     \u001b[39mself\u001b[39;49m\u001b[39m.\u001b[39;49m_handle_dbapi_exception(\n\u001b[0;32m   1863\u001b[0m         e, statement, parameters, cursor, context\n\u001b[0;32m   1864\u001b[0m     )\n\u001b[0;32m   1866\u001b[0m \u001b[39mreturn\u001b[39;00m result\n",
      "File \u001b[1;32mc:\\Users\\debor\\anaconda3\\lib\\site-packages\\sqlalchemy\\engine\\base.py:2043\u001b[0m, in \u001b[0;36mConnection._handle_dbapi_exception\u001b[1;34m(self, e, statement, parameters, cursor, context)\u001b[0m\n\u001b[0;32m   2041\u001b[0m     util\u001b[39m.\u001b[39mraise_(newraise, with_traceback\u001b[39m=\u001b[39mexc_info[\u001b[39m2\u001b[39m], from_\u001b[39m=\u001b[39me)\n\u001b[0;32m   2042\u001b[0m \u001b[39melif\u001b[39;00m should_wrap:\n\u001b[1;32m-> 2043\u001b[0m     util\u001b[39m.\u001b[39;49mraise_(\n\u001b[0;32m   2044\u001b[0m         sqlalchemy_exception, with_traceback\u001b[39m=\u001b[39;49mexc_info[\u001b[39m2\u001b[39;49m], from_\u001b[39m=\u001b[39;49me\n\u001b[0;32m   2045\u001b[0m     )\n\u001b[0;32m   2046\u001b[0m \u001b[39melse\u001b[39;00m:\n\u001b[0;32m   2047\u001b[0m     util\u001b[39m.\u001b[39mraise_(exc_info[\u001b[39m1\u001b[39m], with_traceback\u001b[39m=\u001b[39mexc_info[\u001b[39m2\u001b[39m])\n",
      "File \u001b[1;32mc:\\Users\\debor\\anaconda3\\lib\\site-packages\\sqlalchemy\\util\\compat.py:208\u001b[0m, in \u001b[0;36mraise_\u001b[1;34m(***failed resolving arguments***)\u001b[0m\n\u001b[0;32m    205\u001b[0m     exception\u001b[39m.\u001b[39m__cause__ \u001b[39m=\u001b[39m replace_context\n\u001b[0;32m    207\u001b[0m \u001b[39mtry\u001b[39;00m:\n\u001b[1;32m--> 208\u001b[0m     \u001b[39mraise\u001b[39;00m exception\n\u001b[0;32m    209\u001b[0m \u001b[39mfinally\u001b[39;00m:\n\u001b[0;32m    210\u001b[0m     \u001b[39m# credit to\u001b[39;00m\n\u001b[0;32m    211\u001b[0m     \u001b[39m# https://cosmicpercolator.com/2016/01/13/exception-leaks-in-python-2-and-3/\u001b[39;00m\n\u001b[0;32m    212\u001b[0m     \u001b[39m# as the __traceback__ object creates a cycle\u001b[39;00m\n\u001b[0;32m    213\u001b[0m     \u001b[39mdel\u001b[39;00m exception, replace_context, from_, with_traceback\n",
      "File \u001b[1;32mc:\\Users\\debor\\anaconda3\\lib\\site-packages\\sqlalchemy\\engine\\base.py:1799\u001b[0m, in \u001b[0;36mConnection._execute_context\u001b[1;34m(self, dialect, constructor, statement, parameters, execution_options, *args, **kw)\u001b[0m\n\u001b[0;32m   1797\u001b[0m                 \u001b[39mbreak\u001b[39;00m\n\u001b[0;32m   1798\u001b[0m     \u001b[39mif\u001b[39;00m \u001b[39mnot\u001b[39;00m evt_handled:\n\u001b[1;32m-> 1799\u001b[0m         \u001b[39mself\u001b[39;49m\u001b[39m.\u001b[39;49mdialect\u001b[39m.\u001b[39;49mdo_executemany(\n\u001b[0;32m   1800\u001b[0m             cursor, statement, parameters, context\n\u001b[0;32m   1801\u001b[0m         )\n\u001b[0;32m   1802\u001b[0m \u001b[39melif\u001b[39;00m \u001b[39mnot\u001b[39;00m parameters \u001b[39mand\u001b[39;00m context\u001b[39m.\u001b[39mno_parameters:\n\u001b[0;32m   1803\u001b[0m     \u001b[39mif\u001b[39;00m \u001b[39mself\u001b[39m\u001b[39m.\u001b[39mdialect\u001b[39m.\u001b[39m_has_events:\n",
      "File \u001b[1;32mc:\\Users\\debor\\anaconda3\\lib\\site-packages\\sqlalchemy\\engine\\default.py:729\u001b[0m, in \u001b[0;36mDefaultDialect.do_executemany\u001b[1;34m(self, cursor, statement, parameters, context)\u001b[0m\n\u001b[0;32m    728\u001b[0m \u001b[39mdef\u001b[39;00m \u001b[39mdo_executemany\u001b[39m(\u001b[39mself\u001b[39m, cursor, statement, parameters, context\u001b[39m=\u001b[39m\u001b[39mNone\u001b[39;00m):\n\u001b[1;32m--> 729\u001b[0m     cursor\u001b[39m.\u001b[39;49mexecutemany(statement, parameters)\n",
      "\u001b[1;31mOperationalError\u001b[0m: (sqlite3.OperationalError) no such table: students\n[SQL: INSERT INTO students VALUES (?,?,?,?)]\n[parameters: [(1, 'Jean', 'Dubois', 1), (2, 'Martin', 'Dupont', 2)]]\n(Background on this error at: https://sqlalche.me/e/14/e3q8)"
     ]
    }
   ],
   "source": [
    "##Vérification que la table students n'existe plus en réutilisant le code d'insertion de tuple\n",
    "\n",
    "values = [\n",
    "    (1,\"Jean\", \"Dubois\", 1),\n",
    "    (2,\"Martin\", \"Dupont\", 2),\n",
    "    ]\n",
    "\n",
    "with engine.connect() as connection:\n",
    "    with connection.begin() as transaction:\n",
    "        try:\n",
    "            markers = ','.join('?' * len(values[0])) \n",
    "            ins = 'INSERT INTO students VALUES ({markers})'\n",
    "            ins = ins.format(tablename=students.name, markers=markers)\n",
    "            connection.execute(ins, values)\n",
    "        except:\n",
    "            transaction.rollback()\n",
    "            raise\n",
    "        else:\n",
    "            transaction.commit()"
   ]
  },
  {
   "attachments": {},
   "cell_type": "markdown",
   "metadata": {},
   "source": [
    "Conclusion\n",
    "Dans ce cours nous avons vu la structure à utiliser pour se connecter à une base de données et effectuer des requêtes sur une base de données relationnelles, ce qu'il faut retenir :\n",
    "\n",
    "la structure de connexion à une base de données avec SQLAlchemy\n",
    "la syntaxe pour effectuer des requêtes SQL à l'aide de SQLAlchemy\n",
    "la syntaxe pour créer, modifier ou supprimer une table en SQL\n",
    "N'hésitez pas à consulter notre Cheat Sheet sur SQL pour récapituler les notions étudiées lors de ce module."
   ]
  }
 ],
 "metadata": {
  "kernelspec": {
   "display_name": "base",
   "language": "python",
   "name": "python3"
  },
  "language_info": {
   "codemirror_mode": {
    "name": "ipython",
    "version": 3
   },
   "file_extension": ".py",
   "mimetype": "text/x-python",
   "name": "python",
   "nbconvert_exporter": "python",
   "pygments_lexer": "ipython3",
   "version": "3.9.16"
  },
  "orig_nbformat": 4
 },
 "nbformat": 4,
 "nbformat_minor": 2
}
